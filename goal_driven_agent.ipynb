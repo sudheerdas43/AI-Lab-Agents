{
  "nbformat": 4,
  "nbformat_minor": 0,
  "metadata": {
    "colab": {
      "provenance": [],
      "authorship_tag": "ABX9TyNh8EW6tlbXDwbGkoN8JnnS",
      "include_colab_link": true
    },
    "kernelspec": {
      "name": "python3",
      "display_name": "Python 3"
    },
    "language_info": {
      "name": "python"
    }
  },
  "cells": [
    {
      "cell_type": "markdown",
      "metadata": {
        "id": "view-in-github",
        "colab_type": "text"
      },
      "source": [
        "<a href=\"https://colab.research.google.com/github/sudheerdas43/AI-Lab-Agents/blob/main/goal_driven_agent.ipynb\" target=\"_parent\"><img src=\"https://colab.research.google.com/assets/colab-badge.svg\" alt=\"Open In Colab\"/></a>"
      ]
    },
    {
      "cell_type": "code",
      "execution_count": 1,
      "metadata": {
        "colab": {
          "base_uri": "https://localhost:8080/"
        },
        "id": "ofPQmNmdDobU",
        "outputId": "09efaef1-6968-46a6-cec4-a916f98cc765"
      },
      "outputs": [
        {
          "output_type": "stream",
          "name": "stdout",
          "text": [
            "Starting at Arad, goal is Bucharest\n",
            "Current city: Arad\n",
            "Moving to: Zerind\n",
            "Current city: Zerind\n",
            "Moving to: Oradea\n",
            "Current city: Oradea\n",
            "Moving to: Sibiu\n",
            "Current city: Sibiu\n",
            "Moving to: Fagaras\n",
            "Current city: Fagaras\n",
            "Moving to: Bucharest\n",
            "Goal Bucharest reached!\n",
            "Path taken: Arad -> Zerind -> Oradea -> Sibiu -> Fagaras -> Bucharest\n"
          ]
        }
      ],
      "source": [
        "romania_map = {\n",
        "    'Arad': ['Zerind', 'Sibiu', 'Timisoara'],\n",
        "    'Zerind': ['Arad', 'Oradea'],\n",
        "    'Oradea': ['Zerind', 'Sibiu'],\n",
        "    'Sibiu': ['Arad', 'Oradea', 'Fagaras', 'Rimnicu Vilcea'],\n",
        "    'Fagaras': ['Sibiu', 'Bucharest'],\n",
        "    'Rimnicu Vilcea': ['Sibiu', 'Pitesti', 'Craiova'],\n",
        "    'Timisoara': ['Arad', 'Lugoj'],\n",
        "    'Lugoj': ['Timisoara', 'Mehadia'],\n",
        "    'Mehadia': ['Lugoj', 'Drobeta'],\n",
        "    'Drobeta': ['Mehadia', 'Craiova'],\n",
        "    'Craiova': ['Drobeta', 'Rimnicu Vilcea', 'Pitesti'],\n",
        "    'Pitesti': ['Rimnicu Vilcea', 'Craiova', 'Bucharest'],\n",
        "    'Bucharest': ['Fagaras', 'Pitesti', 'Giurgiu', 'Urziceni'],\n",
        "    'Giurgiu': ['Bucharest'],\n",
        "    'Urziceni': ['Bucharest', 'Hirsova', 'Vaslui'],\n",
        "    'Hirsova': ['Urziceni', 'Eforie'],\n",
        "    'Eforie': ['Hirsova'],\n",
        "    'Vaslui': ['Urziceni', 'Iasi'],\n",
        "    'Iasi': ['Vaslui', 'Neamt'],\n",
        "    'Neamt': ['Iasi']\n",
        "}\n",
        "\n",
        "class GoalDrivenAgent:\n",
        "    def __init__(self, environment, start, goal):\n",
        "        self.environment = environment\n",
        "        self.current_city = start\n",
        "        self.goal = goal\n",
        "        self.path = [start]  # Keep track of the path taken\n",
        "\n",
        "    def perceive(self):\n",
        "        # Returns current city\n",
        "        return self.current_city\n",
        "\n",
        "    def decide_action(self):\n",
        "        if self.current_city == self.goal:\n",
        "            return None  # Goal reached\n",
        "\n",
        "        # Simple decision: move to any connected city not yet visited,\n",
        "        # or towards the goal if connected.\n",
        "        neighbors = self.environment[self.current_city]\n",
        "\n",
        "        # If goal is directly connected, move there\n",
        "        if self.goal in neighbors:\n",
        "            return self.goal\n",
        "\n",
        "        # Otherwise, pick the next city not in path to avoid cycles\n",
        "        for city in neighbors:\n",
        "            if city not in self.path:\n",
        "                return city\n",
        "\n",
        "        # If all neighbors visited, just pick first neighbor (not optimal but works)\n",
        "        return neighbors[0]\n",
        "\n",
        "    def act(self, next_city):\n",
        "        self.current_city = next_city\n",
        "        self.path.append(next_city)\n",
        "\n",
        "    def run(self):\n",
        "        print(f\"Starting at {self.current_city}, goal is {self.goal}\")\n",
        "        while self.current_city != self.goal:\n",
        "            print(f\"Current city: {self.current_city}\")\n",
        "            next_city = self.decide_action()\n",
        "            if next_city is None:\n",
        "                break\n",
        "            print(f\"Moving to: {next_city}\")\n",
        "            self.act(next_city)\n",
        "        print(f\"Goal {self.goal} reached!\")\n",
        "        print(\"Path taken:\", \" -> \".join(self.path))\n",
        "\n",
        "\n",
        "# Example usage:\n",
        "agent = GoalDrivenAgent(romania_map, start='Arad', goal='Bucharest')\n",
        "agent.run()"
      ]
    }
  ]
}